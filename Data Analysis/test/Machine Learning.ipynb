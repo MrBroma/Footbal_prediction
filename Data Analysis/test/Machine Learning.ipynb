{
 "cells": [
  {
   "cell_type": "code",
   "execution_count": 6,
   "metadata": {},
   "outputs": [],
   "source": [
    "import pandas as pd\n",
    "from sklearn.model_selection import train_test_split\n",
    "from sklearn.ensemble import RandomForestClassifier\n",
    "from sklearn.metrics import classification_report\n",
    "from sklearn.preprocessing import LabelEncoder"
   ]
  },
  {
   "cell_type": "code",
   "execution_count": 7,
   "metadata": {},
   "outputs": [],
   "source": [
    "df = pd.read_csv('dataset.csv')"
   ]
  },
  {
   "cell_type": "code",
   "execution_count": 9,
   "metadata": {},
   "outputs": [],
   "source": [
    "selected_columns = ['HomeTeam', 'AwayTeam', 'HTHG', 'HTAG', 'HS', 'AS', 'HST', 'AST', 'HY', 'HR', 'AR', 'FTR'] \n",
    "df_ML = df[selected_columns]\n",
    "df_ML = df_ML.dropna()\n",
    "\n",
    "X_ML= df_ML.drop('FTR', axis=1)\n",
    "y_ML= df_ML['FTR'] \n",
    "\n",
    "#Encode target and categorical features (if not already encoded)\n",
    "labelencoder = LabelEncoder()\n",
    "X_ML['HomeTeam'] = labelencoder.fit_transform(X_ML['HomeTeam'])\n",
    "X_ML['AwayTeam'] = labelencoder.fit_transform(X_ML['AwayTeam'])"
   ]
  },
  {
   "cell_type": "code",
   "execution_count": 13,
   "metadata": {},
   "outputs": [
    {
     "data": {
      "text/plain": [
       "0       D\n",
       "1       D\n",
       "2       D\n",
       "3       H\n",
       "4       H\n",
       "       ..\n",
       "1503    A\n",
       "1504    A\n",
       "1505    A\n",
       "1506    A\n",
       "1507    H\n",
       "Name: FTR, Length: 1503, dtype: object"
      ]
     },
     "execution_count": 13,
     "metadata": {},
     "output_type": "execute_result"
    }
   ],
   "source": [
    "df_ML['FTR']"
   ]
  },
  {
   "cell_type": "code",
   "execution_count": 44,
   "metadata": {},
   "outputs": [
    {
     "name": "stdout",
     "output_type": "stream",
     "text": [
      "              precision    recall  f1-score   support\n",
      "\n",
      "           A       0.63      0.67      0.65       155\n",
      "           D       0.41      0.21      0.28       111\n",
      "           H       0.64      0.80      0.71       185\n",
      "\n",
      "    accuracy                           0.61       451\n",
      "   macro avg       0.56      0.56      0.55       451\n",
      "weighted avg       0.58      0.61      0.58       451\n",
      "\n"
     ]
    }
   ],
   "source": [
    "\n",
    "# Split the data\n",
    "X_train, X_test, y_train, y_test = train_test_split(X_ML, y_ML, test_size=0.30, random_state=42)\n",
    "\n",
    "# Initialize and train the mode\n",
    "model = RandomForestClassifier(n_estimators=300, class_weight={'A':1, 'D':3, 'H':1}, max_depth = 300, random_state=42)\n",
    "model.fit(X_train, y_train)\n",
    "\n",
    "# Make predictions\n",
    "y_pred = model.predict(X_test)\n",
    "\n",
    "# Evaluate the model\n",
    "print(classification_report(y_test, y_pred))"
   ]
  },
  {
   "cell_type": "code",
   "execution_count": null,
   "metadata": {},
   "outputs": [],
   "source": []
  }
 ],
 "metadata": {
  "kernelspec": {
   "display_name": "Python 3",
   "language": "python",
   "name": "python3"
  },
  "language_info": {
   "codemirror_mode": {
    "name": "ipython",
    "version": 3
   },
   "file_extension": ".py",
   "mimetype": "text/x-python",
   "name": "python",
   "nbconvert_exporter": "python",
   "pygments_lexer": "ipython3",
   "version": "3.11.7"
  }
 },
 "nbformat": 4,
 "nbformat_minor": 2
}
